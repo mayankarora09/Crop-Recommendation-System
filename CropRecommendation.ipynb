{
 "cells": [
  {
   "cell_type": "code",
   "execution_count": 5,
   "id": "0acef4f8-ad7d-4945-87d1-765d8cd81c68",
   "metadata": {},
   "outputs": [],
   "source": [
    "# Importing Libraries\n",
    "import numpy as np\n",
    "import pandas as pd"
   ]
  },
  {
   "cell_type": "code",
   "execution_count": 6,
   "id": "019cc5df-a504-4d66-acb8-78f6a000b8bf",
   "metadata": {},
   "outputs": [],
   "source": [
    "# Load the uploaded dataset\n",
    "data = pd.read_csv(\"Crop_recommendation.csv\")"
   ]
  },
  {
   "cell_type": "code",
   "execution_count": 7,
   "id": "d95982e4-b7db-48e3-a662-f6989e14a31a",
   "metadata": {
    "scrolled": true
   },
   "outputs": [
    {
     "data": {
      "text/html": [
       "<div>\n",
       "<style scoped>\n",
       "    .dataframe tbody tr th:only-of-type {\n",
       "        vertical-align: middle;\n",
       "    }\n",
       "\n",
       "    .dataframe tbody tr th {\n",
       "        vertical-align: top;\n",
       "    }\n",
       "\n",
       "    .dataframe thead th {\n",
       "        text-align: right;\n",
       "    }\n",
       "</style>\n",
       "<table border=\"1\" class=\"dataframe\">\n",
       "  <thead>\n",
       "    <tr style=\"text-align: right;\">\n",
       "      <th></th>\n",
       "      <th>N</th>\n",
       "      <th>P</th>\n",
       "      <th>K</th>\n",
       "      <th>temperature</th>\n",
       "      <th>humidity</th>\n",
       "      <th>ph</th>\n",
       "      <th>rainfall</th>\n",
       "      <th>label</th>\n",
       "    </tr>\n",
       "  </thead>\n",
       "  <tbody>\n",
       "    <tr>\n",
       "      <th>0</th>\n",
       "      <td>25</td>\n",
       "      <td>12</td>\n",
       "      <td>26</td>\n",
       "      <td>28.569735</td>\n",
       "      <td>95.679067</td>\n",
       "      <td>6.436314</td>\n",
       "      <td>134.837035</td>\n",
       "      <td>coconut</td>\n",
       "    </tr>\n",
       "    <tr>\n",
       "      <th>1</th>\n",
       "      <td>99</td>\n",
       "      <td>15</td>\n",
       "      <td>27</td>\n",
       "      <td>27.042417</td>\n",
       "      <td>57.279275</td>\n",
       "      <td>6.501157</td>\n",
       "      <td>165.687212</td>\n",
       "      <td>coffee</td>\n",
       "    </tr>\n",
       "    <tr>\n",
       "      <th>2</th>\n",
       "      <td>5</td>\n",
       "      <td>136</td>\n",
       "      <td>195</td>\n",
       "      <td>22.356287</td>\n",
       "      <td>91.923605</td>\n",
       "      <td>6.264203</td>\n",
       "      <td>107.769741</td>\n",
       "      <td>apple</td>\n",
       "    </tr>\n",
       "    <tr>\n",
       "      <th>3</th>\n",
       "      <td>26</td>\n",
       "      <td>73</td>\n",
       "      <td>21</td>\n",
       "      <td>31.331708</td>\n",
       "      <td>57.974292</td>\n",
       "      <td>4.946264</td>\n",
       "      <td>161.782023</td>\n",
       "      <td>pigeonpeas</td>\n",
       "    </tr>\n",
       "    <tr>\n",
       "      <th>4</th>\n",
       "      <td>61</td>\n",
       "      <td>59</td>\n",
       "      <td>17</td>\n",
       "      <td>23.338446</td>\n",
       "      <td>59.245806</td>\n",
       "      <td>6.474443</td>\n",
       "      <td>105.008314</td>\n",
       "      <td>maize</td>\n",
       "    </tr>\n",
       "  </tbody>\n",
       "</table>\n",
       "</div>"
      ],
      "text/plain": [
       "    N    P    K  temperature   humidity        ph    rainfall       label\n",
       "0  25   12   26    28.569735  95.679067  6.436314  134.837035     coconut\n",
       "1  99   15   27    27.042417  57.279275  6.501157  165.687212      coffee\n",
       "2   5  136  195    22.356287  91.923605  6.264203  107.769741       apple\n",
       "3  26   73   21    31.331708  57.974292  4.946264  161.782023  pigeonpeas\n",
       "4  61   59   17    23.338446  59.245806  6.474443  105.008314       maize"
      ]
     },
     "execution_count": 7,
     "metadata": {},
     "output_type": "execute_result"
    }
   ],
   "source": [
    "# Display the first few rows\n",
    "data.head()"
   ]
  },
  {
   "cell_type": "code",
   "execution_count": 8,
   "id": "ea0e07ef-4f9b-425d-af9a-587e4c472eb7",
   "metadata": {},
   "outputs": [
    {
     "data": {
      "text/plain": [
       "(2200, 8)"
      ]
     },
     "execution_count": 8,
     "metadata": {},
     "output_type": "execute_result"
    }
   ],
   "source": [
    "# Display rows and columns of data\n",
    "data.shape"
   ]
  },
  {
   "cell_type": "code",
   "execution_count": 9,
   "id": "978c75e6-b973-4735-8fe3-994932fa20b7",
   "metadata": {},
   "outputs": [
    {
     "name": "stdout",
     "output_type": "stream",
     "text": [
      "<class 'pandas.core.frame.DataFrame'>\n",
      "RangeIndex: 2200 entries, 0 to 2199\n",
      "Data columns (total 8 columns):\n",
      " #   Column       Non-Null Count  Dtype  \n",
      "---  ------       --------------  -----  \n",
      " 0   N            2200 non-null   int64  \n",
      " 1   P            2200 non-null   int64  \n",
      " 2   K            2200 non-null   int64  \n",
      " 3   temperature  2200 non-null   float64\n",
      " 4   humidity     2200 non-null   float64\n",
      " 5   ph           2200 non-null   float64\n",
      " 6   rainfall     2200 non-null   float64\n",
      " 7   label        2200 non-null   object \n",
      "dtypes: float64(4), int64(3), object(1)\n",
      "memory usage: 137.6+ KB\n"
     ]
    }
   ],
   "source": [
    "# Basic information about data\n",
    "data.info()"
   ]
  },
  {
   "cell_type": "code",
   "execution_count": 10,
   "id": "845e9552-a0a5-4749-9a08-f38baa3d6c5d",
   "metadata": {},
   "outputs": [
    {
     "data": {
      "text/plain": [
       "N              0\n",
       "P              0\n",
       "K              0\n",
       "temperature    0\n",
       "humidity       0\n",
       "ph             0\n",
       "rainfall       0\n",
       "label          0\n",
       "dtype: int64"
      ]
     },
     "execution_count": 10,
     "metadata": {},
     "output_type": "execute_result"
    }
   ],
   "source": [
    "# Finding Null Values\n",
    "data.isnull().sum()"
   ]
  },
  {
   "cell_type": "code",
   "execution_count": 11,
   "id": "c5977136-b301-4659-a7d5-9d6a92d45390",
   "metadata": {},
   "outputs": [
    {
     "data": {
      "text/plain": [
       "0"
      ]
     },
     "execution_count": 11,
     "metadata": {},
     "output_type": "execute_result"
    }
   ],
   "source": [
    "# Checking Duplicate Values\n",
    "data.duplicated().sum()"
   ]
  },
  {
   "cell_type": "code",
   "execution_count": 12,
   "id": "879a31ae-ca95-4455-b7e6-f4efb34af76c",
   "metadata": {},
   "outputs": [
    {
     "data": {
      "text/html": [
       "<div>\n",
       "<style scoped>\n",
       "    .dataframe tbody tr th:only-of-type {\n",
       "        vertical-align: middle;\n",
       "    }\n",
       "\n",
       "    .dataframe tbody tr th {\n",
       "        vertical-align: top;\n",
       "    }\n",
       "\n",
       "    .dataframe thead th {\n",
       "        text-align: right;\n",
       "    }\n",
       "</style>\n",
       "<table border=\"1\" class=\"dataframe\">\n",
       "  <thead>\n",
       "    <tr style=\"text-align: right;\">\n",
       "      <th></th>\n",
       "      <th>N</th>\n",
       "      <th>P</th>\n",
       "      <th>K</th>\n",
       "      <th>temperature</th>\n",
       "      <th>humidity</th>\n",
       "      <th>ph</th>\n",
       "      <th>rainfall</th>\n",
       "    </tr>\n",
       "  </thead>\n",
       "  <tbody>\n",
       "    <tr>\n",
       "      <th>count</th>\n",
       "      <td>2200.000000</td>\n",
       "      <td>2200.000000</td>\n",
       "      <td>2200.000000</td>\n",
       "      <td>2200.000000</td>\n",
       "      <td>2200.000000</td>\n",
       "      <td>2200.000000</td>\n",
       "      <td>2200.000000</td>\n",
       "    </tr>\n",
       "    <tr>\n",
       "      <th>mean</th>\n",
       "      <td>50.551818</td>\n",
       "      <td>53.362727</td>\n",
       "      <td>48.149091</td>\n",
       "      <td>25.616244</td>\n",
       "      <td>71.481779</td>\n",
       "      <td>6.469480</td>\n",
       "      <td>103.463655</td>\n",
       "    </tr>\n",
       "    <tr>\n",
       "      <th>std</th>\n",
       "      <td>36.917334</td>\n",
       "      <td>32.985883</td>\n",
       "      <td>50.647931</td>\n",
       "      <td>5.063749</td>\n",
       "      <td>22.263812</td>\n",
       "      <td>0.773938</td>\n",
       "      <td>54.958389</td>\n",
       "    </tr>\n",
       "    <tr>\n",
       "      <th>min</th>\n",
       "      <td>0.000000</td>\n",
       "      <td>5.000000</td>\n",
       "      <td>5.000000</td>\n",
       "      <td>8.825675</td>\n",
       "      <td>14.258040</td>\n",
       "      <td>3.504752</td>\n",
       "      <td>20.211267</td>\n",
       "    </tr>\n",
       "    <tr>\n",
       "      <th>25%</th>\n",
       "      <td>21.000000</td>\n",
       "      <td>28.000000</td>\n",
       "      <td>20.000000</td>\n",
       "      <td>22.769375</td>\n",
       "      <td>60.261953</td>\n",
       "      <td>5.971693</td>\n",
       "      <td>64.551686</td>\n",
       "    </tr>\n",
       "    <tr>\n",
       "      <th>50%</th>\n",
       "      <td>37.000000</td>\n",
       "      <td>51.000000</td>\n",
       "      <td>32.000000</td>\n",
       "      <td>25.598693</td>\n",
       "      <td>80.473146</td>\n",
       "      <td>6.425045</td>\n",
       "      <td>94.867624</td>\n",
       "    </tr>\n",
       "    <tr>\n",
       "      <th>75%</th>\n",
       "      <td>84.250000</td>\n",
       "      <td>68.000000</td>\n",
       "      <td>49.000000</td>\n",
       "      <td>28.561654</td>\n",
       "      <td>89.948771</td>\n",
       "      <td>6.923643</td>\n",
       "      <td>124.267508</td>\n",
       "    </tr>\n",
       "    <tr>\n",
       "      <th>max</th>\n",
       "      <td>140.000000</td>\n",
       "      <td>145.000000</td>\n",
       "      <td>205.000000</td>\n",
       "      <td>43.675493</td>\n",
       "      <td>99.981876</td>\n",
       "      <td>9.935091</td>\n",
       "      <td>298.560117</td>\n",
       "    </tr>\n",
       "  </tbody>\n",
       "</table>\n",
       "</div>"
      ],
      "text/plain": [
       "                 N            P            K  temperature     humidity  \\\n",
       "count  2200.000000  2200.000000  2200.000000  2200.000000  2200.000000   \n",
       "mean     50.551818    53.362727    48.149091    25.616244    71.481779   \n",
       "std      36.917334    32.985883    50.647931     5.063749    22.263812   \n",
       "min       0.000000     5.000000     5.000000     8.825675    14.258040   \n",
       "25%      21.000000    28.000000    20.000000    22.769375    60.261953   \n",
       "50%      37.000000    51.000000    32.000000    25.598693    80.473146   \n",
       "75%      84.250000    68.000000    49.000000    28.561654    89.948771   \n",
       "max     140.000000   145.000000   205.000000    43.675493    99.981876   \n",
       "\n",
       "                ph     rainfall  \n",
       "count  2200.000000  2200.000000  \n",
       "mean      6.469480   103.463655  \n",
       "std       0.773938    54.958389  \n",
       "min       3.504752    20.211267  \n",
       "25%       5.971693    64.551686  \n",
       "50%       6.425045    94.867624  \n",
       "75%       6.923643   124.267508  \n",
       "max       9.935091   298.560117  "
      ]
     },
     "execution_count": 12,
     "metadata": {},
     "output_type": "execute_result"
    }
   ],
   "source": [
    "# Stastical Analysis of Data\n",
    "data.describe()"
   ]
  },
  {
   "cell_type": "code",
   "execution_count": 13,
   "id": "d5290664-3220-4b72-8e39-5877a72c2712",
   "metadata": {},
   "outputs": [
    {
     "data": {
      "text/html": [
       "<div>\n",
       "<style scoped>\n",
       "    .dataframe tbody tr th:only-of-type {\n",
       "        vertical-align: middle;\n",
       "    }\n",
       "\n",
       "    .dataframe tbody tr th {\n",
       "        vertical-align: top;\n",
       "    }\n",
       "\n",
       "    .dataframe thead th {\n",
       "        text-align: right;\n",
       "    }\n",
       "</style>\n",
       "<table border=\"1\" class=\"dataframe\">\n",
       "  <thead>\n",
       "    <tr style=\"text-align: right;\">\n",
       "      <th></th>\n",
       "      <th>N</th>\n",
       "      <th>P</th>\n",
       "      <th>K</th>\n",
       "      <th>temperature</th>\n",
       "      <th>humidity</th>\n",
       "      <th>ph</th>\n",
       "      <th>rainfall</th>\n",
       "    </tr>\n",
       "  </thead>\n",
       "  <tbody>\n",
       "    <tr>\n",
       "      <th>N</th>\n",
       "      <td>1.000000</td>\n",
       "      <td>-0.231460</td>\n",
       "      <td>-0.140512</td>\n",
       "      <td>0.026504</td>\n",
       "      <td>0.190688</td>\n",
       "      <td>0.096683</td>\n",
       "      <td>0.059020</td>\n",
       "    </tr>\n",
       "    <tr>\n",
       "      <th>P</th>\n",
       "      <td>-0.231460</td>\n",
       "      <td>1.000000</td>\n",
       "      <td>0.736232</td>\n",
       "      <td>-0.127541</td>\n",
       "      <td>-0.118734</td>\n",
       "      <td>-0.138019</td>\n",
       "      <td>-0.063839</td>\n",
       "    </tr>\n",
       "    <tr>\n",
       "      <th>K</th>\n",
       "      <td>-0.140512</td>\n",
       "      <td>0.736232</td>\n",
       "      <td>1.000000</td>\n",
       "      <td>-0.160387</td>\n",
       "      <td>0.190859</td>\n",
       "      <td>-0.169503</td>\n",
       "      <td>-0.053461</td>\n",
       "    </tr>\n",
       "    <tr>\n",
       "      <th>temperature</th>\n",
       "      <td>0.026504</td>\n",
       "      <td>-0.127541</td>\n",
       "      <td>-0.160387</td>\n",
       "      <td>1.000000</td>\n",
       "      <td>0.205320</td>\n",
       "      <td>-0.017795</td>\n",
       "      <td>-0.030084</td>\n",
       "    </tr>\n",
       "    <tr>\n",
       "      <th>humidity</th>\n",
       "      <td>0.190688</td>\n",
       "      <td>-0.118734</td>\n",
       "      <td>0.190859</td>\n",
       "      <td>0.205320</td>\n",
       "      <td>1.000000</td>\n",
       "      <td>-0.008483</td>\n",
       "      <td>0.094423</td>\n",
       "    </tr>\n",
       "    <tr>\n",
       "      <th>ph</th>\n",
       "      <td>0.096683</td>\n",
       "      <td>-0.138019</td>\n",
       "      <td>-0.169503</td>\n",
       "      <td>-0.017795</td>\n",
       "      <td>-0.008483</td>\n",
       "      <td>1.000000</td>\n",
       "      <td>-0.109069</td>\n",
       "    </tr>\n",
       "    <tr>\n",
       "      <th>rainfall</th>\n",
       "      <td>0.059020</td>\n",
       "      <td>-0.063839</td>\n",
       "      <td>-0.053461</td>\n",
       "      <td>-0.030084</td>\n",
       "      <td>0.094423</td>\n",
       "      <td>-0.109069</td>\n",
       "      <td>1.000000</td>\n",
       "    </tr>\n",
       "  </tbody>\n",
       "</table>\n",
       "</div>"
      ],
      "text/plain": [
       "                    N         P         K  temperature  humidity        ph  \\\n",
       "N            1.000000 -0.231460 -0.140512     0.026504  0.190688  0.096683   \n",
       "P           -0.231460  1.000000  0.736232    -0.127541 -0.118734 -0.138019   \n",
       "K           -0.140512  0.736232  1.000000    -0.160387  0.190859 -0.169503   \n",
       "temperature  0.026504 -0.127541 -0.160387     1.000000  0.205320 -0.017795   \n",
       "humidity     0.190688 -0.118734  0.190859     0.205320  1.000000 -0.008483   \n",
       "ph           0.096683 -0.138019 -0.169503    -0.017795 -0.008483  1.000000   \n",
       "rainfall     0.059020 -0.063839 -0.053461    -0.030084  0.094423 -0.109069   \n",
       "\n",
       "             rainfall  \n",
       "N            0.059020  \n",
       "P           -0.063839  \n",
       "K           -0.053461  \n",
       "temperature -0.030084  \n",
       "humidity     0.094423  \n",
       "ph          -0.109069  \n",
       "rainfall     1.000000  "
      ]
     },
     "execution_count": 13,
     "metadata": {},
     "output_type": "execute_result"
    }
   ],
   "source": [
    "# Checking Coorelation between data\n",
    "corr=data.drop(['label'],axis=1).corr()\n",
    "corr"
   ]
  },
  {
   "cell_type": "code",
   "execution_count": 37,
   "id": "1373b161-35fa-48db-a873-15cf960f7113",
   "metadata": {},
   "outputs": [
    {
     "data": {
      "text/plain": [
       "<Axes: >"
      ]
     },
     "execution_count": 37,
     "metadata": {},
     "output_type": "execute_result"
    },
    {
     "data": {
      "image/png": "[encoded data removed]",
      "text/plain": [
       "<Figure size 640x480 with 2 Axes>"
      ]
     },
     "metadata": {},
     "output_type": "display_data"
    }
   ],
   "source": [
    "import seaborn as sns\n",
    "sns.heatmap(corr, annot=True, cbar=True, cmap='coolwarm')\n"
   ]
  },
  {
   "cell_type": "code",
   "execution_count": 15,
   "id": "50c0fdd6-0c52-4e5a-a5a4-4900d2cc7419",
   "metadata": {},
   "outputs": [
    {
     "data": {
      "text/plain": [
       "label\n",
       "coconut        100\n",
       "coffee         100\n",
       "mothbeans      100\n",
       "mungbean       100\n",
       "jute           100\n",
       "mango          100\n",
       "banana         100\n",
       "muskmelon      100\n",
       "chickpea       100\n",
       "orange         100\n",
       "watermelon     100\n",
       "papaya         100\n",
       "lentil         100\n",
       "cotton         100\n",
       "kidneybeans    100\n",
       "rice           100\n",
       "blackgram      100\n",
       "pomegranate    100\n",
       "maize          100\n",
       "pigeonpeas     100\n",
       "apple          100\n",
       "grapes         100\n",
       "Name: count, dtype: int64"
      ]
     },
     "execution_count": 15,
     "metadata": {},
     "output_type": "execute_result"
    }
   ],
   "source": [
    "# Counting the values of labels present in file\n",
    "data['label'].value_counts()"
   ]
  },
  {
   "cell_type": "code",
   "execution_count": 16,
   "id": "079d7d34-eb57-4599-8ccc-ea91c055cc49",
   "metadata": {},
   "outputs": [],
   "source": [
    "data_dict = {\n",
    "    'rice' : 1,\n",
    "    'maize': 2,\n",
    "    'jute' : 3,     \n",
    "    'cotton' : 4,\n",
    "    'coconut': 5,    \n",
    "    'papaya' : 6,    \n",
    "    'orange' : 7,   \n",
    "    'apple'  : 8,    \n",
    "    'muskmelon' : 9,   \n",
    "    'watermelon' : 10,\n",
    "    'grapes' : 11,   \n",
    "    'mango' : 12,    \n",
    "    'banana' : 13,    \n",
    "    'pomegranate' : 14,\n",
    "    'lentil' : 15,\n",
    "    'blackgram' : 16 ,  \n",
    "    'mungbean' : 17,\n",
    "    'mothbeans' : 18,  \n",
    "    'pigeonpeas' : 19, \n",
    "    'kidneybeans' : 20, \n",
    "    'chickpea' : 21,\n",
    "    'coffee' : 22,    \n",
    "}"
   ]
  },
  {
   "cell_type": "code",
   "execution_count": 17,
   "id": "ea6a414c-0e71-4ff7-9e77-6fb039cb472b",
   "metadata": {},
   "outputs": [],
   "source": [
    "# Replacing crop names with numbers\n",
    "data['label_num'] = data['label'].map(data_dict)"
   ]
  },
  {
   "cell_type": "code",
   "execution_count": 18,
   "id": "dcb37e13-045c-4d0e-a7fa-3f073c9de6f5",
   "metadata": {},
   "outputs": [
    {
     "data": {
      "text/plain": [
       "label_num\n",
       "5     100\n",
       "22    100\n",
       "18    100\n",
       "17    100\n",
       "3     100\n",
       "12    100\n",
       "13    100\n",
       "9     100\n",
       "21    100\n",
       "7     100\n",
       "10    100\n",
       "6     100\n",
       "15    100\n",
       "4     100\n",
       "20    100\n",
       "1     100\n",
       "16    100\n",
       "14    100\n",
       "2     100\n",
       "19    100\n",
       "8     100\n",
       "11    100\n",
       "Name: count, dtype: int64"
      ]
     },
     "execution_count": 18,
     "metadata": {},
     "output_type": "execute_result"
    }
   ],
   "source": [
    "data['label_num'].value_counts()"
   ]
  },
  {
   "cell_type": "code",
   "execution_count": 19,
   "id": "4a81ab16-d46c-4353-8890-5b0f2030a8ac",
   "metadata": {},
   "outputs": [],
   "source": [
    "data.drop(['label'],axis=1,inplace=True)"
   ]
  },
  {
   "cell_type": "code",
   "execution_count": 20,
   "id": "609c73c3-a23e-40c3-b1d3-8a9597dadec0",
   "metadata": {},
   "outputs": [
    {
     "data": {
      "text/html": [
       "<div>\n",
       "<style scoped>\n",
       "    .dataframe tbody tr th:only-of-type {\n",
       "        vertical-align: middle;\n",
       "    }\n",
       "\n",
       "    .dataframe tbody tr th {\n",
       "        vertical-align: top;\n",
       "    }\n",
       "\n",
       "    .dataframe thead th {\n",
       "        text-align: right;\n",
       "    }\n",
       "</style>\n",
       "<table border=\"1\" class=\"dataframe\">\n",
       "  <thead>\n",
       "    <tr style=\"text-align: right;\">\n",
       "      <th></th>\n",
       "      <th>N</th>\n",
       "      <th>P</th>\n",
       "      <th>K</th>\n",
       "      <th>temperature</th>\n",
       "      <th>humidity</th>\n",
       "      <th>ph</th>\n",
       "      <th>rainfall</th>\n",
       "      <th>label_num</th>\n",
       "    </tr>\n",
       "  </thead>\n",
       "  <tbody>\n",
       "    <tr>\n",
       "      <th>0</th>\n",
       "      <td>25</td>\n",
       "      <td>12</td>\n",
       "      <td>26</td>\n",
       "      <td>28.569735</td>\n",
       "      <td>95.679067</td>\n",
       "      <td>6.436314</td>\n",
       "      <td>134.837035</td>\n",
       "      <td>5</td>\n",
       "    </tr>\n",
       "    <tr>\n",
       "      <th>1</th>\n",
       "      <td>99</td>\n",
       "      <td>15</td>\n",
       "      <td>27</td>\n",
       "      <td>27.042417</td>\n",
       "      <td>57.279275</td>\n",
       "      <td>6.501157</td>\n",
       "      <td>165.687212</td>\n",
       "      <td>22</td>\n",
       "    </tr>\n",
       "    <tr>\n",
       "      <th>2</th>\n",
       "      <td>5</td>\n",
       "      <td>136</td>\n",
       "      <td>195</td>\n",
       "      <td>22.356287</td>\n",
       "      <td>91.923605</td>\n",
       "      <td>6.264203</td>\n",
       "      <td>107.769741</td>\n",
       "      <td>8</td>\n",
       "    </tr>\n",
       "    <tr>\n",
       "      <th>3</th>\n",
       "      <td>26</td>\n",
       "      <td>73</td>\n",
       "      <td>21</td>\n",
       "      <td>31.331708</td>\n",
       "      <td>57.974292</td>\n",
       "      <td>4.946264</td>\n",
       "      <td>161.782023</td>\n",
       "      <td>19</td>\n",
       "    </tr>\n",
       "    <tr>\n",
       "      <th>4</th>\n",
       "      <td>61</td>\n",
       "      <td>59</td>\n",
       "      <td>17</td>\n",
       "      <td>23.338446</td>\n",
       "      <td>59.245806</td>\n",
       "      <td>6.474443</td>\n",
       "      <td>105.008314</td>\n",
       "      <td>2</td>\n",
       "    </tr>\n",
       "  </tbody>\n",
       "</table>\n",
       "</div>"
      ],
      "text/plain": [
       "    N    P    K  temperature   humidity        ph    rainfall  label_num\n",
       "0  25   12   26    28.569735  95.679067  6.436314  134.837035          5\n",
       "1  99   15   27    27.042417  57.279275  6.501157  165.687212         22\n",
       "2   5  136  195    22.356287  91.923605  6.264203  107.769741          8\n",
       "3  26   73   21    31.331708  57.974292  4.946264  161.782023         19\n",
       "4  61   59   17    23.338446  59.245806  6.474443  105.008314          2"
      ]
     },
     "execution_count": 20,
     "metadata": {},
     "output_type": "execute_result"
    }
   ],
   "source": [
    "data.head()"
   ]
  },
  {
   "cell_type": "code",
   "execution_count": 21,
   "id": "5c796da7-df1b-4f7e-aa62-23e09ef3180b",
   "metadata": {},
   "outputs": [],
   "source": [
    "# Distributing Input and Output\n",
    "X = data.drop('label_num',axis=1) # Input Values\n",
    "Y = data['label_num'] # Output Values "
   ]
  },
  {
   "cell_type": "code",
   "execution_count": 22,
   "id": "b361c123-6ac5-47fc-9374-d76bd4653f67",
   "metadata": {},
   "outputs": [
    {
     "data": {
      "text/plain": [
       "(2200, 7)"
      ]
     },
     "execution_count": 22,
     "metadata": {},
     "output_type": "execute_result"
    }
   ],
   "source": [
    "# Checking if distributed properly or not\n",
    "X.shape"
   ]
  },
  {
   "cell_type": "code",
   "execution_count": 23,
   "id": "eb18a187-38ac-4f79-84fc-5d21c542e9ba",
   "metadata": {},
   "outputs": [
    {
     "data": {
      "text/plain": [
       "(2200,)"
      ]
     },
     "execution_count": 23,
     "metadata": {},
     "output_type": "execute_result"
    }
   ],
   "source": [
    "Y.shape"
   ]
  },
  {
   "cell_type": "code",
   "execution_count": 24,
   "id": "e2dcc261-013b-4c81-bcc6-8e767a9f5fd0",
   "metadata": {},
   "outputs": [],
   "source": [
    "from sklearn.model_selection import train_test_split"
   ]
  },
  {
   "cell_type": "code",
   "execution_count": 25,
   "id": "1db1da83-ce79-41c0-b383-c9641641cb87",
   "metadata": {},
   "outputs": [],
   "source": [
    "# Spliting the dataset into training and testing sets (80% train, 20% test)\n",
    "X_train, X_test, Y_train, Y_test = train_test_split(X, Y, test_size=0.2, random_state=42)"
   ]
  },
  {
   "cell_type": "code",
   "execution_count": 26,
   "id": "e96c36a5-21f7-48fe-a205-68ccadd14e2a",
   "metadata": {},
   "outputs": [
    {
     "data": {
      "text/plain": [
       "(1760, 7)"
      ]
     },
     "execution_count": 26,
     "metadata": {},
     "output_type": "execute_result"
    }
   ],
   "source": [
    "X_train.shape"
   ]
  },
  {
   "cell_type": "code",
   "execution_count": 27,
   "id": "50184264-e9aa-4031-bad0-c5c31522a1df",
   "metadata": {},
   "outputs": [
    {
     "data": {
      "text/plain": [
       "(1760,)"
      ]
     },
     "execution_count": 27,
     "metadata": {},
     "output_type": "execute_result"
    }
   ],
   "source": [
    "Y_train.shape"
   ]
  },
  {
   "cell_type": "code",
   "execution_count": 28,
   "id": "e108f50e-aa46-43f6-9d61-90c782386117",
   "metadata": {},
   "outputs": [
    {
     "data": {
      "text/plain": [
       "(440, 7)"
      ]
     },
     "execution_count": 28,
     "metadata": {},
     "output_type": "execute_result"
    }
   ],
   "source": [
    "X_test.shape"
   ]
  },
  {
   "cell_type": "code",
   "execution_count": 29,
   "id": "4d44ebe1-337e-49fe-9513-0f50cd1700ba",
   "metadata": {},
   "outputs": [
    {
     "data": {
      "text/plain": [
       "(440,)"
      ]
     },
     "execution_count": 29,
     "metadata": {},
     "output_type": "execute_result"
    }
   ],
   "source": [
    "Y_test.shape"
   ]
  },
  {
   "cell_type": "code",
   "execution_count": 30,
   "id": "3fcc2786-ae70-4fbe-a9df-1e97d307c9b2",
   "metadata": {},
   "outputs": [],
   "source": [
    "# Scaleing the features to standardize them\n",
    "from sklearn.preprocessing import StandardScaler\n",
    "\n",
    "sc = StandardScaler()\n",
    "X_train = sc.fit_transform(X_train)\n",
    "X_test = sc.transform(X_test)"
   ]
  },
  {
   "cell_type": "code",
   "execution_count": 31,
   "id": "938d95f6-a8be-4c1c-be6e-3d1ac9e4b87e",
   "metadata": {},
   "outputs": [
    {
     "data": {
      "text/plain": [
       "array([[-0.28542458, -0.88447817, -0.45801991, ..., -0.9520402 ,\n",
       "        -1.29260273, -0.14534199],\n",
       "       [-1.01719562, -1.36562226, -0.71125181, ...,  0.94791057,\n",
       "         0.81310037,  0.18774067],\n",
       "       [ 0.25662804, -0.31311956, -0.08791176, ...,  0.51495942,\n",
       "         1.20655327,  3.51710904],\n",
       "       ...,\n",
       "       [ 1.77437537, -0.91454967, -0.45801991, ..., -0.86948311,\n",
       "         0.51366286,  0.64088017],\n",
       "       [ 1.82858063, -0.28304805, -0.49697867, ...,  0.5094015 ,\n",
       "         0.28795478, -0.6667488 ],\n",
       "       [-0.50224563,  2.63388803,  3.02878853, ...,  0.51249215,\n",
       "        -1.17642408, -0.66365314]])"
      ]
     },
     "execution_count": 31,
     "metadata": {},
     "output_type": "execute_result"
    }
   ],
   "source": [
    "X_train"
   ]
  },
  {
   "cell_type": "code",
   "execution_count": 33,
   "id": "9b0f4b9e-8114-456e-a33f-32d1bba8baa5",
   "metadata": {},
   "outputs": [
    {
     "name": "stdout",
     "output_type": "stream",
     "text": [
      "Model: Naive Bayes\n",
      "              precision    recall  f1-score   support\n",
      "\n",
      "           1       1.00      0.93      0.96        14\n",
      "           2       1.00      1.00      1.00        22\n",
      "           3       0.95      1.00      0.97        18\n",
      "           4       1.00      1.00      1.00        19\n",
      "           5       1.00      1.00      1.00        20\n",
      "           6       1.00      1.00      1.00        27\n",
      "           7       1.00      1.00      1.00        21\n",
      "           8       1.00      1.00      1.00        18\n",
      "           9       1.00      1.00      1.00        22\n",
      "          10       1.00      1.00      1.00        18\n",
      "          11       1.00      1.00      1.00        16\n",
      "          12       1.00      1.00      1.00        21\n",
      "          13       1.00      1.00      1.00        22\n",
      "          14       1.00      1.00      1.00        19\n",
      "          15       1.00      1.00      1.00        23\n",
      "          16       1.00      1.00      1.00        18\n",
      "          17       1.00      1.00      1.00        20\n",
      "          18       1.00      1.00      1.00        17\n",
      "          19       1.00      1.00      1.00        21\n",
      "          20       1.00      1.00      1.00        18\n",
      "          21       1.00      1.00      1.00        24\n",
      "          22       1.00      1.00      1.00        22\n",
      "\n",
      "    accuracy                           1.00       440\n",
      "   macro avg       1.00      1.00      1.00       440\n",
      "weighted avg       1.00      1.00      1.00       440\n",
      "\n",
      "Model: Random Forest\n",
      "              precision    recall  f1-score   support\n",
      "\n",
      "           1       1.00      0.86      0.92        14\n",
      "           2       1.00      1.00      1.00        22\n",
      "           3       0.90      1.00      0.95        18\n",
      "           4       1.00      1.00      1.00        19\n",
      "           5       1.00      1.00      1.00        20\n",
      "           6       1.00      1.00      1.00        27\n",
      "           7       1.00      1.00      1.00        21\n",
      "           8       1.00      1.00      1.00        18\n",
      "           9       1.00      1.00      1.00        22\n",
      "          10       1.00      1.00      1.00        18\n",
      "          11       1.00      1.00      1.00        16\n",
      "          12       1.00      1.00      1.00        21\n",
      "          13       1.00      1.00      1.00        22\n",
      "          14       1.00      1.00      1.00        19\n",
      "          15       0.96      1.00      0.98        23\n",
      "          16       1.00      1.00      1.00        18\n",
      "          17       1.00      1.00      1.00        20\n",
      "          18       1.00      0.94      0.97        17\n",
      "          19       1.00      1.00      1.00        21\n",
      "          20       1.00      1.00      1.00        18\n",
      "          21       1.00      1.00      1.00        24\n",
      "          22       1.00      1.00      1.00        22\n",
      "\n",
      "    accuracy                           0.99       440\n",
      "   macro avg       0.99      0.99      0.99       440\n",
      "weighted avg       0.99      0.99      0.99       440\n",
      "\n",
      "Model: K-Nearest Neighbors\n",
      "              precision    recall  f1-score   support\n",
      "\n",
      "           1       1.00      0.79      0.88        14\n",
      "           2       1.00      0.95      0.98        22\n",
      "           3       0.82      1.00      0.90        18\n",
      "           4       0.95      1.00      0.97        19\n",
      "           5       0.95      1.00      0.98        20\n",
      "           6       1.00      1.00      1.00        27\n",
      "           7       1.00      0.86      0.92        21\n",
      "           8       1.00      1.00      1.00        18\n",
      "           9       1.00      1.00      1.00        22\n",
      "          10       1.00      1.00      1.00        18\n",
      "          11       1.00      1.00      1.00        16\n",
      "          12       1.00      1.00      1.00        21\n",
      "          13       1.00      1.00      1.00        22\n",
      "          14       0.90      1.00      0.95        19\n",
      "          15       0.96      1.00      0.98        23\n",
      "          16       0.86      1.00      0.92        18\n",
      "          17       1.00      1.00      1.00        20\n",
      "          18       1.00      0.82      0.90        17\n",
      "          19       1.00      0.86      0.92        21\n",
      "          20       0.90      1.00      0.95        18\n",
      "          21       1.00      1.00      1.00        24\n",
      "          22       1.00      0.95      0.98        22\n",
      "\n",
      "    accuracy                           0.97       440\n",
      "   macro avg       0.97      0.97      0.97       440\n",
      "weighted avg       0.97      0.97      0.97       440\n",
      "\n",
      "Model: Decision tree\n",
      "              precision    recall  f1-score   support\n",
      "\n",
      "           1       0.92      0.86      0.89        14\n",
      "           2       1.00      1.00      1.00        22\n",
      "           3       0.89      0.94      0.92        18\n",
      "           4       1.00      1.00      1.00        19\n",
      "           5       1.00      0.95      0.97        20\n",
      "           6       1.00      1.00      1.00        27\n",
      "           7       0.95      1.00      0.98        21\n",
      "           8       1.00      1.00      1.00        18\n",
      "           9       1.00      1.00      1.00        22\n",
      "          10       1.00      1.00      1.00        18\n",
      "          11       1.00      1.00      1.00        16\n",
      "          12       1.00      1.00      1.00        21\n",
      "          13       1.00      1.00      1.00        22\n",
      "          14       1.00      1.00      1.00        19\n",
      "          15       0.96      0.96      0.96        23\n",
      "          16       0.90      1.00      0.95        18\n",
      "          17       1.00      1.00      1.00        20\n",
      "          18       0.93      0.82      0.88        17\n",
      "          19       1.00      1.00      1.00        21\n",
      "          20       1.00      1.00      1.00        18\n",
      "          21       1.00      1.00      1.00        24\n",
      "          22       1.00      1.00      1.00        22\n",
      "\n",
      "    accuracy                           0.98       440\n",
      "   macro avg       0.98      0.98      0.98       440\n",
      "weighted avg       0.98      0.98      0.98       440\n",
      "\n"
     ]
    }
   ],
   "source": [
    "# Training Model\n",
    "from sklearn.naive_bayes import GaussianNB\n",
    "from sklearn.ensemble import RandomForestClassifier\n",
    "from sklearn.neighbors import KNeighborsClassifier\n",
    "from sklearn.linear_model import LogisticRegression\n",
    "from sklearn.tree import DecisionTreeClassifier\n",
    "from sklearn.svm import SVC\n",
    "\n",
    "# Initializing models\n",
    "models = {\n",
    "    \"Naive Bayes\" : GaussianNB(),\n",
    "    \"Random Forest\" : RandomForestClassifier(random_state=42),\n",
    "    \"K-Nearest Neighbors\": KNeighborsClassifier(),\n",
    "    \"Decision tree\" : DecisionTreeClassifier(random_state=42)\n",
    "}\n",
    "\n",
    "# Training and evaluating each model\n",
    "from sklearn.metrics import classification_report\n",
    "\n",
    "for name, model in models.items():\n",
    "    # Training the model\n",
    "    model.fit(X_train, Y_train)\n",
    "    \n",
    "    # Evaluating the model\n",
    "    Y_pred = model.predict(X_test)\n",
    "    print(f\"Model: {name}\")\n",
    "    print(classification_report(Y_test, Y_pred))\n",
    "\n"
   ]
  },
  {
   "cell_type": "code",
   "execution_count": 34,
   "id": "4a28b40c-41b4-42f4-b755-38979e7cca2f",
   "metadata": {},
   "outputs": [
    {
     "name": "stdout",
     "output_type": "stream",
     "text": [
      "Model: Decision tree\n",
      "[[13  0  1  0  0  0  0  0  0  0  0  0  0  0  0  0  0  0  0  0  0  0]\n",
      " [ 0 22  0  0  0  0  0  0  0  0  0  0  0  0  0  0  0  0  0  0  0  0]\n",
      " [ 0  0 18  0  0  0  0  0  0  0  0  0  0  0  0  0  0  0  0  0  0  0]\n",
      " [ 0  0  0 19  0  0  0  0  0  0  0  0  0  0  0  0  0  0  0  0  0  0]\n",
      " [ 0  0  0  0 20  0  0  0  0  0  0  0  0  0  0  0  0  0  0  0  0  0]\n",
      " [ 0  0  0  0  0 27  0  0  0  0  0  0  0  0  0  0  0  0  0  0  0  0]\n",
      " [ 0  0  0  0  0  0 21  0  0  0  0  0  0  0  0  0  0  0  0  0  0  0]\n",
      " [ 0  0  0  0  0  0  0 18  0  0  0  0  0  0  0  0  0  0  0  0  0  0]\n",
      " [ 0  0  0  0  0  0  0  0 22  0  0  0  0  0  0  0  0  0  0  0  0  0]\n",
      " [ 0  0  0  0  0  0  0  0  0 18  0  0  0  0  0  0  0  0  0  0  0  0]\n",
      " [ 0  0  0  0  0  0  0  0  0  0 16  0  0  0  0  0  0  0  0  0  0  0]\n",
      " [ 0  0  0  0  0  0  0  0  0  0  0 21  0  0  0  0  0  0  0  0  0  0]\n",
      " [ 0  0  0  0  0  0  0  0  0  0  0  0 22  0  0  0  0  0  0  0  0  0]\n",
      " [ 0  0  0  0  0  0  0  0  0  0  0  0  0 19  0  0  0  0  0  0  0  0]\n",
      " [ 0  0  0  0  0  0  0  0  0  0  0  0  0  0 23  0  0  0  0  0  0  0]\n",
      " [ 0  0  0  0  0  0  0  0  0  0  0  0  0  0  0 18  0  0  0  0  0  0]\n",
      " [ 0  0  0  0  0  0  0  0  0  0  0  0  0  0  0  0 20  0  0  0  0  0]\n",
      " [ 0  0  0  0  0  0  0  0  0  0  0  0  0  0  0  0  0 17  0  0  0  0]\n",
      " [ 0  0  0  0  0  0  0  0  0  0  0  0  0  0  0  0  0  0 21  0  0  0]\n",
      " [ 0  0  0  0  0  0  0  0  0  0  0  0  0  0  0  0  0  0  0 18  0  0]\n",
      " [ 0  0  0  0  0  0  0  0  0  0  0  0  0  0  0  0  0  0  0  0 24  0]\n",
      " [ 0  0  0  0  0  0  0  0  0  0  0  0  0  0  0  0  0  0  0  0  0 22]]\n",
      "              precision    recall  f1-score   support\n",
      "\n",
      "           1       1.00      0.93      0.96        14\n",
      "           2       1.00      1.00      1.00        22\n",
      "           3       0.95      1.00      0.97        18\n",
      "           4       1.00      1.00      1.00        19\n",
      "           5       1.00      1.00      1.00        20\n",
      "           6       1.00      1.00      1.00        27\n",
      "           7       1.00      1.00      1.00        21\n",
      "           8       1.00      1.00      1.00        18\n",
      "           9       1.00      1.00      1.00        22\n",
      "          10       1.00      1.00      1.00        18\n",
      "          11       1.00      1.00      1.00        16\n",
      "          12       1.00      1.00      1.00        21\n",
      "          13       1.00      1.00      1.00        22\n",
      "          14       1.00      1.00      1.00        19\n",
      "          15       1.00      1.00      1.00        23\n",
      "          16       1.00      1.00      1.00        18\n",
      "          17       1.00      1.00      1.00        20\n",
      "          18       1.00      1.00      1.00        17\n",
      "          19       1.00      1.00      1.00        21\n",
      "          20       1.00      1.00      1.00        18\n",
      "          21       1.00      1.00      1.00        24\n",
      "          22       1.00      1.00      1.00        22\n",
      "\n",
      "    accuracy                           1.00       440\n",
      "   macro avg       1.00      1.00      1.00       440\n",
      "weighted avg       1.00      1.00      1.00       440\n",
      "\n"
     ]
    }
   ],
   "source": [
    "\n",
    "# Training the Random Forest model\n",
    "nb_model = GaussianNB()\n",
    "nb_model.fit(X_train, Y_train)\n",
    "\n",
    "# Making predictions and evaluating the model\n",
    "Y_pred = nb_model.predict(X_test)\n",
    "\n",
    "# Evaluating the model's performance\n",
    "from sklearn.metrics import confusion_matrix\n",
    "print(f\"Model: {name}\")\n",
    "print(confusion_matrix(Y_test, Y_pred))\n",
    "print(classification_report(Y_test, Y_pred))"
   ]
  },
  {
   "cell_type": "code",
   "execution_count": 35,
   "id": "b8c9f358-b06b-4871-80d5-b4bc0c201c0f",
   "metadata": {},
   "outputs": [],
   "source": [
    "# Predicting Function\n",
    "def recommendation(N, P, K, temperature, humidity, ph, rainfall):\n",
    "    # Creating a DataFrame with column names matching the original training data\n",
    "    feature_names = ['N', 'P', 'K', 'temperature', 'humidity', 'ph', 'rainfall']\n",
    "    features = pd.DataFrame([[N, P, K, temperature, humidity, ph, rainfall]], columns=feature_names)\n",
    "    \n",
    "    # Scaling features\n",
    "    transformed_features = sc.transform(features)\n",
    "    \n",
    "    # Making prediction\n",
    "    prediction = nb_model.predict(transformed_features)\n",
    "    return prediction[0]\n"
   ]
  },
  {
   "cell_type": "code",
   "execution_count": 38,
   "id": "8b08523e-5202-4c89-ab35-69c751ee82bd",
   "metadata": {},
   "outputs": [
    {
     "name": "stdout",
     "output_type": "stream",
     "text": [
      "Recommended crop: coconut\n"
     ]
    }
   ],
   "source": [
    "N = 25\n",
    "P = 12\n",
    "K = 26\n",
    "temprature = 28\n",
    "humidity = \t95\t\t\t\t\n",
    "ph = 6\n",
    "rainfall = 134\n",
    "\n",
    "prediction = recommendation(N,P,K,temprature,humidity,ph,rainfall)\n",
    "\n",
    "# Map prediction back to crop name\n",
    "for crop, label in data_dict.items():\n",
    "    if label == prediction:\n",
    "        print(f\"Recommended crop: {crop}\")"
   ]
  },
  {
   "cell_type": "code",
   "execution_count": null,
   "id": "2d1a7374-6877-4b83-88f0-9a8b9f7459a1",
   "metadata": {},
   "outputs": [],
   "source": []
  }
 ],
 "metadata": {
  "kernelspec": {
   "display_name": "Python 3 (ipykernel)",
   "language": "python",
   "name": "python3"
  },
  "language_info": {
   "codemirror_mode": {
    "name": "ipython",
    "version": 3
   },
   "file_extension": ".py",
   "mimetype": "text/x-python",
   "name": "python",
   "nbconvert_exporter": "python",
   "pygments_lexer": "ipython3",
   "version": "3.12.4"
  }
 },
 "nbformat": 4,
 "nbformat_minor": 5
}
